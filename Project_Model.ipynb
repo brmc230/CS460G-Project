{
 "cells": [
  {
   "cell_type": "markdown",
   "metadata": {},
   "source": [
    "### File:           Project_Model  \n",
    "  \n",
    "### Authors:        Brooke McWilliams, James Birch  \n",
    "  \n",
    "### Date Created:   11/19/2023  \n",
    "  \n",
    "### Last Modified:  12/04/2023  \n",
    "  \n",
    "### Description:    Strip features out of audio files using the librosa library and perform CNN modeling using the tensors and keras libraries  \n",
    "<br>\n",
    "<br>\n",
    "<br>\n"
   ]
  },
  {
   "cell_type": "markdown",
   "metadata": {},
   "source": [
    "# Audio Preprocessing"
   ]
  },
  {
   "cell_type": "code",
   "execution_count": 78,
   "metadata": {},
   "outputs": [],
   "source": [
    "import os\n",
    "import librosa\n",
    "import matplotlib.pyplot as plt\n",
    "import pandas as pd\n",
    "import numpy as np\n",
    "import tensorflow"
   ]
  },
  {
   "cell_type": "markdown",
   "metadata": {},
   "source": [
    "Walk through the Crema directory and read each audio file  \n",
    "Extract different features from the file for training  "
   ]
  },
  {
   "cell_type": "code",
   "execution_count": 84,
   "metadata": {},
   "outputs": [],
   "source": [
    "path = \"./Crema Dataset/\"\n",
    "\n",
    "labels = []\n",
    "wav_data = []\n",
    "\n",
    "for file in os.listdir(path):\n",
    "    if file.endswith(\".wav\"):               \n",
    "        file_path = os.path.join(path, file)\n",
    "        data, sr = librosa.load(file_path, sr=None)\n",
    "        label = (file.split('_')[2])\n",
    "        \n",
    "        if label == 'ANG':\n",
    "            y_s = librosa.effects.time_stretch(data, rate=1)\n",
    "            MEL_Feature = librosa.feature.melspectrogram(y=y_s, sr=sr)\n",
    "            MEL_Feature = tensorflow.image.resize(np.expand_dims(MEL_Feature,axis=-1),(128, 128))\n",
    "        elif label == 'SAD':\n",
    "            y_s = librosa.effects.time_stretch(data, rate=1)\n",
    "            MEL_Feature = librosa.feature.melspectrogram(y=y_s, sr=sr)\n",
    "            MEL_Feature = tensorflow.image.resize(np.expand_dims(MEL_Feature,axis=-1),(128, 128))\n",
    "        elif label == 'DIS':\n",
    "            y_s = librosa.effects.time_stretch(data, rate=1)\n",
    "            MEL_Feature = librosa.feature.melspectrogram(y=y_s, sr=sr)\n",
    "            MEL_Feature = tensorflow.image.resize(np.expand_dims(MEL_Feature,axis=-1),(128, 128))\n",
    "        elif label == 'FEA':\n",
    "            y_s = librosa.effects.time_stretch(data, rate=1)\n",
    "            MEL_Feature = librosa.feature.melspectrogram(y=y_s, sr=sr)\n",
    "            MEL_Feature = tensorflow.image.resize(np.expand_dims(MEL_Feature,axis=-1),(128, 128))\n",
    "        elif label == 'HAP':\n",
    "            y_s = librosa.effects.time_stretch(data, rate=1.3)\n",
    "            MEL_Feature = librosa.feature.melspectrogram(y=y_s, sr=sr)\n",
    "            MEL_Feature = tensorflow.image.resize(np.expand_dims(MEL_Feature,axis=-1),(128, 128))\n",
    "        elif label == 'NEU':\n",
    "            y_s = librosa.effects.time_stretch(data, rate=1.3)\n",
    "            MEL_Feature = librosa.feature.melspectrogram(y=y_s, sr=sr)\n",
    "            MEL_Feature = tensorflow.image.resize(np.expand_dims(MEL_Feature,axis=-1),(128, 128))\n",
    "        \n",
    "    wav_data.append([file, label, MEL_Feature])\n"
   ]
  },
  {
   "cell_type": "markdown",
   "metadata": {},
   "source": [
    "# CNN Modeling"
   ]
  },
  {
   "cell_type": "code",
   "execution_count": 110,
   "metadata": {},
   "outputs": [],
   "source": [
    "from tensorflow import keras\n",
    "from keras.models import Sequential\n",
    "from keras.layers import Conv1D, BatchNormalization, Dropout, MaxPooling1D, Flatten, Dense\n",
    "from keras.optimizers import Adam, RMSprop\n",
    "from keras.utils import to_categorical\n",
    "from keras.regularizers import l1, l2\n",
    "from sklearn.model_selection import train_test_split\n",
    "from sklearn.preprocessing import LabelEncoder"
   ]
  },
  {
   "cell_type": "markdown",
   "metadata": {},
   "source": [
    "Build the CNN model for training  "
   ]
  },
  {
   "cell_type": "code",
   "execution_count": 114,
   "metadata": {},
   "outputs": [],
   "source": [
    "def build_model(X_train, y_train, X_test, y_test, num_label):\n",
    "    model = Sequential()\n",
    "    model.add(Conv1D(filters=256, kernel_size=3, padding='same', activation='relu', input_shape=(128,128)))\n",
    "\n",
    "    model.add(Conv1D(filters=256, kernel_size=3, activation='relu', padding='same'))\n",
    "    model.add(MaxPooling1D(pool_size=2, padding='same'))\n",
    "    \n",
    "    model.add(Conv1D(filters=128, kernel_size=3, activation='relu', padding='same'))\n",
    "    model.add(MaxPooling1D(pool_size=2, padding='same'))\n",
    "    model.add(Dropout(0.2))\n",
    "    \n",
    "    model.add(Conv1D(filters=64, kernel_size=3, activation='relu', padding='same'))\n",
    "    model.add(MaxPooling1D(pool_size=2, padding='same'))\n",
    "\n",
    "    model.add(Flatten())\n",
    "    model.add(Dense(64, activation='relu'))\n",
    "    model.add(Dropout(0.2))\n",
    "    model.add(Dense(num_label, activation='softmax'))\n",
    "\n",
    "    model.summary()\n",
    "\n",
    "    opt = Adam(learning_rate=0.0001)\n",
    "    model.compile(loss='categorical_crossentropy', optimizer=opt, metrics=['accuracy'])\n",
    "\n",
    "    return model"
   ]
  },
  {
   "cell_type": "markdown",
   "metadata": {},
   "source": [
    "Split the data into training and testing and encode the labels"
   ]
  },
  {
   "cell_type": "code",
   "execution_count": 115,
   "metadata": {},
   "outputs": [
    {
     "name": "stdout",
     "output_type": "stream",
     "text": [
      "Shape of X1_train: (5953, 128, 128, 1)\n",
      "\n",
      "Shape of y_train: (5953, 6)\n",
      "\n",
      "Shape of X1_test: (1489, 128, 128, 1)\n",
      "\n",
      "Shape of y_test: (1489, 6)\n",
      "\n",
      "Number of labels: 6\n",
      "\n"
     ]
    }
   ],
   "source": [
    "X = [item[2] for item in wav_data]\n",
    "y = [item[1] for item in wav_data]\n",
    "\n",
    "X = np.array(X)\n",
    "y = np.array(y)\n",
    "\n",
    "\n",
    "encoder = LabelEncoder()\n",
    "y = encoder.fit_transform(y)\n",
    "num_label = len(pd.unique(y))\n",
    "y = to_categorical(y, num_classes=6)\n",
    "\n",
    "X_train, X_test, y_train, y_test = train_test_split(X, y, test_size=0.2, random_state=42)\n",
    "\n",
    "print(f\"Shape of X1_train: {X_train.shape}\\n\")\n",
    "print(f\"Shape of y_train: {y_train.shape}\\n\")\n",
    "print(f\"Shape of X1_test: {X_test.shape}\\n\")\n",
    "print(f\"Shape of y_test: {y_test.shape}\\n\")\n",
    "print(f\"Number of labels: {num_label}\\n\")"
   ]
  },
  {
   "cell_type": "markdown",
   "metadata": {},
   "source": [
    "Send training data to model function and return compiled CNN model\n"
   ]
  },
  {
   "cell_type": "code",
   "execution_count": 118,
   "metadata": {},
   "outputs": [
    {
     "name": "stdout",
     "output_type": "stream",
     "text": [
      "Model: \"sequential_8\"\n",
      "_________________________________________________________________\n",
      " Layer (type)                Output Shape              Param #   \n",
      "=================================================================\n",
      " conv1d_19 (Conv1D)          (None, 128, 256)          98560     \n",
      "                                                                 \n",
      " conv1d_20 (Conv1D)          (None, 128, 256)          196864    \n",
      "                                                                 \n",
      " max_pooling1d_13 (MaxPooli  (None, 64, 256)           0         \n",
      " ng1D)                                                           \n",
      "                                                                 \n",
      " conv1d_21 (Conv1D)          (None, 64, 128)           98432     \n",
      "                                                                 \n",
      " max_pooling1d_14 (MaxPooli  (None, 32, 128)           0         \n",
      " ng1D)                                                           \n",
      "                                                                 \n",
      " dropout_6 (Dropout)         (None, 32, 128)           0         \n",
      "                                                                 \n",
      " conv1d_22 (Conv1D)          (None, 32, 64)            24640     \n",
      "                                                                 \n",
      " max_pooling1d_15 (MaxPooli  (None, 16, 64)            0         \n",
      " ng1D)                                                           \n",
      "                                                                 \n",
      " flatten_3 (Flatten)         (None, 1024)              0         \n",
      "                                                                 \n",
      " dense_6 (Dense)             (None, 64)                65600     \n",
      "                                                                 \n",
      " dropout_7 (Dropout)         (None, 64)                0         \n",
      "                                                                 \n",
      " dense_7 (Dense)             (None, 6)                 390       \n",
      "                                                                 \n",
      "=================================================================\n",
      "Total params: 484486 (1.85 MB)\n",
      "Trainable params: 484486 (1.85 MB)\n",
      "Non-trainable params: 0 (0.00 Byte)\n",
      "_________________________________________________________________\n",
      "Epoch 1/50\n",
      "187/187 [==============================] - 21s 107ms/step - loss: 2.9371 - accuracy: 0.2152 - val_loss: 2.0248 - val_accuracy: 0.2518\n",
      "Epoch 2/50\n",
      "187/187 [==============================] - 21s 110ms/step - loss: 1.9986 - accuracy: 0.2916 - val_loss: 1.8586 - val_accuracy: 0.3163\n",
      "Epoch 3/50\n",
      "187/187 [==============================] - 19s 100ms/step - loss: 1.7560 - accuracy: 0.3148 - val_loss: 1.7853 - val_accuracy: 0.3183\n",
      "Epoch 4/50\n",
      "187/187 [==============================] - 18s 96ms/step - loss: 1.6684 - accuracy: 0.3256 - val_loss: 1.6900 - val_accuracy: 0.3358\n",
      "Epoch 5/50\n",
      "187/187 [==============================] - 18s 98ms/step - loss: 1.6011 - accuracy: 0.3437 - val_loss: 1.6604 - val_accuracy: 0.3237\n",
      "Epoch 6/50\n",
      "187/187 [==============================] - 20s 110ms/step - loss: 1.5630 - accuracy: 0.3402 - val_loss: 1.6432 - val_accuracy: 0.3479\n",
      "Epoch 7/50\n",
      "187/187 [==============================] - 21s 115ms/step - loss: 1.5441 - accuracy: 0.3410 - val_loss: 1.6032 - val_accuracy: 0.3459\n",
      "Epoch 8/50\n",
      "187/187 [==============================] - 21s 114ms/step - loss: 1.5066 - accuracy: 0.3459 - val_loss: 1.5929 - val_accuracy: 0.3506\n",
      "Epoch 9/50\n",
      "187/187 [==============================] - 21s 113ms/step - loss: 1.5110 - accuracy: 0.3654 - val_loss: 1.5734 - val_accuracy: 0.3593\n",
      "Epoch 10/50\n",
      "187/187 [==============================] - 21s 111ms/step - loss: 1.4862 - accuracy: 0.3733 - val_loss: 1.5821 - val_accuracy: 0.3667\n",
      "Epoch 11/50\n",
      "187/187 [==============================] - 20s 109ms/step - loss: 1.4629 - accuracy: 0.3731 - val_loss: 1.5828 - val_accuracy: 0.3687\n",
      "Epoch 12/50\n",
      "186/187 [============================>.] - ETA: 0s - loss: 1.4448 - accuracy: 0.3898"
     ]
    }
   ],
   "source": [
    "model1 = build_model(X_train, y_train, X_test, y_test, num_label)\n",
    "\n",
    "\n",
    "model1.fit(X_train, y_train, epochs=50, batch_size=32, validation_data=(X_test, y_test), use_multiprocessing=True)\n",
    "acc1 = model1.evaluate(X_test, y_test)\n",
    "\n",
    "print(f\"Model Accuracy: {acc1[1]:.4f}\\n\")"
   ]
  }
 ],
 "metadata": {
  "kernelspec": {
   "display_name": "Python 3",
   "language": "python",
   "name": "python3"
  },
  "language_info": {
   "codemirror_mode": {
    "name": "ipython",
    "version": 3
   },
   "file_extension": ".py",
   "mimetype": "text/x-python",
   "name": "python",
   "nbconvert_exporter": "python",
   "pygments_lexer": "ipython3",
   "version": "3.11.5"
  }
 },
 "nbformat": 4,
 "nbformat_minor": 2
}
