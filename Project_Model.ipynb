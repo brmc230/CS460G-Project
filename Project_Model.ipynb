{
 "cells": [
  {
   "cell_type": "markdown",
   "metadata": {},
   "source": [
    "### File:           Project_Model  \n",
    "  \n",
    "### Authors:        Brooke McWilliams, James Birch  \n",
    "  \n",
    "### Date Created:   11/19/2023  \n",
    "  \n",
    "### Last Modified:  12/04/2023  \n",
    "  \n",
    "### Description:    Strip features out of audio files using the librosa library and perform CNN modeling using the tensors and keras libraries  \n",
    "<br>\n",
    "<br>\n",
    "<br>\n"
   ]
  },
  {
   "cell_type": "markdown",
   "metadata": {},
   "source": [
    "# Audio Preprocessing"
   ]
  },
  {
   "cell_type": "code",
   "execution_count": 13,
   "metadata": {},
   "outputs": [],
   "source": [
    "import os\n",
    "import librosa\n",
    "import matplotlib.pyplot as plt\n",
    "import pandas as pd\n",
    "import numpy as np\n",
    "import tensorflow"
   ]
  },
  {
   "cell_type": "markdown",
   "metadata": {},
   "source": [
    "Walk through the Crema directory and read each audio file  \n",
    "Extract different features from the file for training  "
   ]
  },
  {
   "cell_type": "code",
   "execution_count": 14,
   "metadata": {},
   "outputs": [],
   "source": [
    "path = \"./Crema Dataset/\"\n",
    "\n",
    "labels = []\n",
    "wav_data = []\n",
    "\n",
    "for file in os.listdir(path):\n",
    "    if file.endswith(\".wav\"):               \n",
    "        file_path = os.path.join(path, file)\n",
    "        data, sr = librosa.load(file_path, sr=None)\n",
    "        label = (file.split('_')[2])\n",
    "        \n",
    "        if label == 'ANG':\n",
    "            y_s = librosa.effects.time_stretch(data, rate=1)\n",
    "            MEL_Feature = librosa.feature.melspectrogram(y=y_s, sr=sr)\n",
    "            MEL_Feature = tensorflow.image.resize(np.expand_dims(MEL_Feature,axis=-1),(128, 128))\n",
    "        elif label == 'SAD':\n",
    "            y_s = librosa.effects.time_stretch(data, rate=1)\n",
    "            MEL_Feature = librosa.feature.melspectrogram(y=y_s, sr=sr)\n",
    "            MEL_Feature = tensorflow.image.resize(np.expand_dims(MEL_Feature,axis=-1),(128, 128))\n",
    "        elif label == 'DIS':\n",
    "            y_s = librosa.effects.time_stretch(data, rate=1)\n",
    "            MEL_Feature = librosa.feature.melspectrogram(y=y_s, sr=sr)\n",
    "            MEL_Feature = tensorflow.image.resize(np.expand_dims(MEL_Feature,axis=-1),(128, 128))\n",
    "        elif label == 'FEA':\n",
    "            y_s = librosa.effects.time_stretch(data, rate=1)\n",
    "            MEL_Feature = librosa.feature.melspectrogram(y=y_s, sr=sr)\n",
    "            MEL_Feature = tensorflow.image.resize(np.expand_dims(MEL_Feature,axis=-1),(128, 128))\n",
    "        elif label == 'HAP':\n",
    "            y_s = librosa.effects.time_stretch(data, rate=1.3)\n",
    "            MEL_Feature = librosa.feature.melspectrogram(y=y_s, sr=sr)\n",
    "            MEL_Feature = tensorflow.image.resize(np.expand_dims(MEL_Feature,axis=-1),(128, 128))\n",
    "        elif label == 'NEU':\n",
    "            y_s = librosa.effects.time_stretch(data, rate=1.3)\n",
    "            MEL_Feature = librosa.feature.melspectrogram(y=y_s, sr=sr)\n",
    "            MEL_Feature = tensorflow.image.resize(np.expand_dims(MEL_Feature,axis=-1),(128, 128))\n",
    "        \n",
    "    wav_data.append([file, label, MEL_Feature])\n"
   ]
  },
  {
   "cell_type": "markdown",
   "metadata": {},
   "source": [
    "# CNN Modeling"
   ]
  },
  {
   "cell_type": "code",
   "execution_count": 15,
   "metadata": {},
   "outputs": [],
   "source": [
    "from tensorflow import keras\n",
    "from keras.models import Sequential\n",
    "from keras.layers import Conv1D, BatchNormalization, Dropout, MaxPooling1D, Flatten, Dense\n",
    "from keras.optimizers import Adam, RMSprop\n",
    "from keras.utils import to_categorical\n",
    "from keras.regularizers import l1, l2\n",
    "from sklearn.model_selection import train_test_split\n",
    "from sklearn.preprocessing import LabelEncoder"
   ]
  },
  {
   "cell_type": "markdown",
   "metadata": {},
   "source": [
    "Build the CNN model for training  "
   ]
  },
  {
   "cell_type": "code",
   "execution_count": 27,
   "metadata": {},
   "outputs": [],
   "source": [
    "def build_model(X_train, y_train, X_test, y_test, num_label):\n",
    "    model = Sequential()\n",
    "    model.add(Conv1D(filters=256, kernel_size=3, padding='same', activation='relu', input_shape=(128,128)))\n",
    "\n",
    "    \n",
    "    model.add(Conv1D(filters=256, kernel_size=3, activation='relu', padding='same'))\n",
    "    model.add(MaxPooling1D(pool_size=2, padding='same'))\n",
    "    model.add(Dropout(0.2))\n",
    "    \n",
    "    model.add(Conv1D(filters=128, kernel_size=3, activation='relu', padding='same'))\n",
    "    model.add(MaxPooling1D(pool_size=2, padding='same'))\n",
    "    model.add(Dropout(0.2))\n",
    "    \n",
    "    model.add(Conv1D(filters=64, kernel_size=3, activation='relu', padding='same'))\n",
    "    model.add(MaxPooling1D(pool_size=2, padding='same'))\n",
    "\n",
    "    model.add(Flatten())\n",
    "    model.add(Dense(64, activation='relu'))\n",
    "    model.add(Dropout(0.3))\n",
    "    model.add(Dense(num_label, activation='softmax'))\n",
    "\n",
    "    model.summary()\n",
    "\n",
    "    opt = Adam(learning_rate=0.001)\n",
    "    model.compile(loss='categorical_crossentropy', optimizer=opt, metrics=['accuracy'])\n",
    "\n",
    "    return model"
   ]
  },
  {
   "cell_type": "markdown",
   "metadata": {},
   "source": [
    "Split the data into training and testing and encode the labels"
   ]
  },
  {
   "cell_type": "code",
   "execution_count": 28,
   "metadata": {},
   "outputs": [
    {
     "name": "stdout",
     "output_type": "stream",
     "text": [
      "Shape of X1_train: (5953, 128, 128, 1)\n",
      "\n",
      "Shape of y_train: (5953, 6)\n",
      "\n",
      "Shape of X1_test: (1489, 128, 128, 1)\n",
      "\n",
      "Shape of y_test: (1489, 6)\n",
      "\n",
      "Number of labels: 6\n",
      "\n"
     ]
    }
   ],
   "source": [
    "X = [item[2] for item in wav_data]\n",
    "y = [item[1] for item in wav_data]\n",
    "\n",
    "X = np.array(X)\n",
    "y = np.array(y)\n",
    "\n",
    "\n",
    "encoder = LabelEncoder()\n",
    "y = encoder.fit_transform(y)\n",
    "num_label = len(pd.unique(y))\n",
    "y = to_categorical(y, num_classes=6)\n",
    "\n",
    "X_train, X_test, y_train, y_test = train_test_split(X, y, test_size=0.2, random_state=42)\n",
    "\n",
    "print(f\"Shape of X1_train: {X_train.shape}\\n\")\n",
    "print(f\"Shape of y_train: {y_train.shape}\\n\")\n",
    "print(f\"Shape of X1_test: {X_test.shape}\\n\")\n",
    "print(f\"Shape of y_test: {y_test.shape}\\n\")\n",
    "print(f\"Number of labels: {num_label}\\n\")"
   ]
  },
  {
   "cell_type": "markdown",
   "metadata": {},
   "source": [
    "Send training data to model function and return compiled CNN model\n"
   ]
  },
  {
   "cell_type": "code",
   "execution_count": 29,
   "metadata": {},
   "outputs": [
    {
     "name": "stdout",
     "output_type": "stream",
     "text": [
      "Model: \"sequential_7\"\n",
      "_________________________________________________________________\n",
      " Layer (type)                Output Shape              Param #   \n",
      "=================================================================\n",
      " conv1d_28 (Conv1D)          (None, 128, 256)          98560     \n",
      "                                                                 \n",
      " conv1d_29 (Conv1D)          (None, 128, 256)          196864    \n",
      "                                                                 \n",
      " max_pooling1d_21 (MaxPooli  (None, 64, 256)           0         \n",
      " ng1D)                                                           \n",
      "                                                                 \n",
      " dropout_23 (Dropout)        (None, 64, 256)           0         \n",
      "                                                                 \n",
      " conv1d_30 (Conv1D)          (None, 64, 128)           98432     \n",
      "                                                                 \n",
      " max_pooling1d_22 (MaxPooli  (None, 32, 128)           0         \n",
      " ng1D)                                                           \n",
      "                                                                 \n",
      " dropout_24 (Dropout)        (None, 32, 128)           0         \n",
      "                                                                 \n",
      " conv1d_31 (Conv1D)          (None, 32, 64)            24640     \n",
      "                                                                 \n",
      " max_pooling1d_23 (MaxPooli  (None, 16, 64)            0         \n",
      " ng1D)                                                           \n",
      "                                                                 \n",
      " flatten_7 (Flatten)         (None, 1024)              0         \n",
      "                                                                 \n",
      " dense_16 (Dense)            (None, 64)                65600     \n",
      "                                                                 \n",
      " dropout_25 (Dropout)        (None, 64)                0         \n",
      "                                                                 \n",
      " dense_17 (Dense)            (None, 6)                 390       \n",
      "                                                                 \n",
      "=================================================================\n",
      "Total params: 484486 (1.85 MB)\n",
      "Trainable params: 484486 (1.85 MB)\n",
      "Non-trainable params: 0 (0.00 Byte)\n",
      "_________________________________________________________________\n",
      "Epoch 1/50\n",
      "373/373 [==============================] - 24s 60ms/step - loss: 2.1251 - accuracy: 0.2914 - val_loss: 1.5816 - val_accuracy: 0.3674\n",
      "Epoch 2/50\n",
      "373/373 [==============================] - 24s 65ms/step - loss: 1.5880 - accuracy: 0.3250 - val_loss: 1.5170 - val_accuracy: 0.4070\n",
      "Epoch 3/50\n",
      "373/373 [==============================] - 21s 56ms/step - loss: 1.5431 - accuracy: 0.3556 - val_loss: 1.4651 - val_accuracy: 0.4184\n",
      "Epoch 4/50\n",
      "373/373 [==============================] - 31s 84ms/step - loss: 1.4616 - accuracy: 0.3985 - val_loss: 1.2611 - val_accuracy: 0.5044\n",
      "Epoch 5/50\n",
      "373/373 [==============================] - 37s 99ms/step - loss: 1.5161 - accuracy: 0.3981 - val_loss: 1.2231 - val_accuracy: 0.4936\n",
      "Epoch 6/50\n",
      "373/373 [==============================] - 30s 80ms/step - loss: 1.2897 - accuracy: 0.4611 - val_loss: 1.2170 - val_accuracy: 0.5158\n",
      "Epoch 7/50\n",
      "373/373 [==============================] - 37s 98ms/step - loss: 1.1974 - accuracy: 0.5024 - val_loss: 1.0407 - val_accuracy: 0.5373\n",
      "Epoch 8/50\n",
      "373/373 [==============================] - 31s 82ms/step - loss: 1.1093 - accuracy: 0.5224 - val_loss: 1.0471 - val_accuracy: 0.5292\n",
      "Epoch 9/50\n",
      "373/373 [==============================] - 23s 61ms/step - loss: 1.0843 - accuracy: 0.5345 - val_loss: 1.0466 - val_accuracy: 0.5400\n",
      "Epoch 10/50\n",
      "373/373 [==============================] - 23s 61ms/step - loss: 1.1020 - accuracy: 0.5365 - val_loss: 0.9747 - val_accuracy: 0.5816\n",
      "Epoch 11/50\n",
      "373/373 [==============================] - 27s 74ms/step - loss: 1.0668 - accuracy: 0.5428 - val_loss: 1.0273 - val_accuracy: 0.5467\n",
      "Epoch 12/50\n",
      "373/373 [==============================] - 26s 71ms/step - loss: 1.0449 - accuracy: 0.5424 - val_loss: 1.0023 - val_accuracy: 0.5769\n",
      "Epoch 13/50\n",
      "373/373 [==============================] - 30s 80ms/step - loss: 1.0009 - accuracy: 0.5508 - val_loss: 0.9183 - val_accuracy: 0.5897\n",
      "Epoch 14/50\n",
      "373/373 [==============================] - 27s 71ms/step - loss: 0.9819 - accuracy: 0.5720 - val_loss: 0.9418 - val_accuracy: 0.5883\n",
      "Epoch 15/50\n",
      "373/373 [==============================] - 28s 75ms/step - loss: 1.0176 - accuracy: 0.5564 - val_loss: 0.9706 - val_accuracy: 0.5863\n",
      "Epoch 16/50\n",
      "373/373 [==============================] - 26s 68ms/step - loss: 1.0381 - accuracy: 0.5512 - val_loss: 1.0887 - val_accuracy: 0.5024\n",
      "Epoch 17/50\n",
      "373/373 [==============================] - 22s 60ms/step - loss: 1.0337 - accuracy: 0.5480 - val_loss: 0.9222 - val_accuracy: 0.5950\n",
      "Epoch 18/50\n",
      "373/373 [==============================] - 24s 64ms/step - loss: 0.9676 - accuracy: 0.5681 - val_loss: 0.9585 - val_accuracy: 0.5883\n",
      "Epoch 19/50\n",
      "373/373 [==============================] - 22s 60ms/step - loss: 0.9440 - accuracy: 0.5757 - val_loss: 0.9638 - val_accuracy: 0.5695\n",
      "Epoch 20/50\n",
      "373/373 [==============================] - 23s 61ms/step - loss: 0.9930 - accuracy: 0.5627 - val_loss: 0.9506 - val_accuracy: 0.5662\n",
      "Epoch 21/50\n",
      "373/373 [==============================] - 21s 57ms/step - loss: 0.9501 - accuracy: 0.5700 - val_loss: 0.9231 - val_accuracy: 0.6004\n",
      "Epoch 22/50\n",
      "373/373 [==============================] - 26s 70ms/step - loss: 0.9448 - accuracy: 0.5819 - val_loss: 0.9753 - val_accuracy: 0.5950\n",
      "Epoch 23/50\n",
      "373/373 [==============================] - 20s 55ms/step - loss: 0.9785 - accuracy: 0.5700 - val_loss: 0.9885 - val_accuracy: 0.5762\n",
      "Epoch 24/50\n",
      "373/373 [==============================] - 18s 48ms/step - loss: 0.9843 - accuracy: 0.5713 - val_loss: 0.9646 - val_accuracy: 0.5870\n",
      "Epoch 25/50\n",
      "373/373 [==============================] - 20s 53ms/step - loss: 0.9677 - accuracy: 0.5750 - val_loss: 0.9931 - val_accuracy: 0.5534\n",
      "Epoch 26/50\n",
      "373/373 [==============================] - 20s 54ms/step - loss: 0.9189 - accuracy: 0.5916 - val_loss: 0.9546 - val_accuracy: 0.6085\n",
      "Epoch 27/50\n",
      "373/373 [==============================] - 20s 55ms/step - loss: 0.9245 - accuracy: 0.5911 - val_loss: 0.9796 - val_accuracy: 0.5715\n",
      "Epoch 28/50\n",
      "373/373 [==============================] - 22s 58ms/step - loss: 0.9575 - accuracy: 0.5895 - val_loss: 0.9112 - val_accuracy: 0.5897\n",
      "Epoch 29/50\n",
      "373/373 [==============================] - 21s 56ms/step - loss: 0.8788 - accuracy: 0.6152 - val_loss: 0.9438 - val_accuracy: 0.5950\n",
      "Epoch 30/50\n",
      "373/373 [==============================] - 21s 55ms/step - loss: 0.8700 - accuracy: 0.6178 - val_loss: 0.9363 - val_accuracy: 0.6011\n",
      "Epoch 31/50\n",
      "373/373 [==============================] - 20s 55ms/step - loss: 0.8559 - accuracy: 0.6180 - val_loss: 0.9622 - val_accuracy: 0.6031\n",
      "Epoch 32/50\n",
      "373/373 [==============================] - 23s 61ms/step - loss: 0.8571 - accuracy: 0.6217 - val_loss: 0.9015 - val_accuracy: 0.6152\n",
      "Epoch 33/50\n",
      "373/373 [==============================] - 20s 52ms/step - loss: 0.8582 - accuracy: 0.6220 - val_loss: 0.9369 - val_accuracy: 0.6111\n",
      "Epoch 34/50\n",
      "373/373 [==============================] - 21s 56ms/step - loss: 0.8422 - accuracy: 0.6299 - val_loss: 0.9208 - val_accuracy: 0.6199\n",
      "Epoch 35/50\n",
      "373/373 [==============================] - 21s 56ms/step - loss: 0.8014 - accuracy: 0.6444 - val_loss: 0.8996 - val_accuracy: 0.6253\n",
      "Epoch 36/50\n",
      "373/373 [==============================] - 20s 54ms/step - loss: 0.8114 - accuracy: 0.6472 - val_loss: 0.9370 - val_accuracy: 0.6044\n",
      "Epoch 37/50\n",
      "373/373 [==============================] - 20s 54ms/step - loss: 0.8365 - accuracy: 0.6466 - val_loss: 0.8922 - val_accuracy: 0.6259\n",
      "Epoch 38/50\n",
      "373/373 [==============================] - 20s 55ms/step - loss: 0.8077 - accuracy: 0.6524 - val_loss: 0.9106 - val_accuracy: 0.6185\n",
      "Epoch 39/50\n",
      "373/373 [==============================] - 21s 57ms/step - loss: 0.8571 - accuracy: 0.6420 - val_loss: 0.9007 - val_accuracy: 0.6145\n",
      "Epoch 40/50\n",
      "373/373 [==============================] - 21s 57ms/step - loss: 0.9071 - accuracy: 0.6217 - val_loss: 0.9366 - val_accuracy: 0.5997\n",
      "Epoch 41/50\n"
     ]
    },
    {
     "name": "stdout",
     "output_type": "stream",
     "text": [
      "373/373 [==============================] - 19s 51ms/step - loss: 0.8348 - accuracy: 0.6412 - val_loss: 0.9351 - val_accuracy: 0.6226\n",
      "Epoch 42/50\n",
      "373/373 [==============================] - 20s 53ms/step - loss: 0.7873 - accuracy: 0.6642 - val_loss: 0.9262 - val_accuracy: 0.6246\n",
      "Epoch 43/50\n",
      "373/373 [==============================] - 21s 55ms/step - loss: 0.7784 - accuracy: 0.6642 - val_loss: 0.9418 - val_accuracy: 0.6179\n",
      "Epoch 44/50\n",
      "373/373 [==============================] - 19s 52ms/step - loss: 0.8066 - accuracy: 0.6652 - val_loss: 0.9468 - val_accuracy: 0.6279\n",
      "Epoch 45/50\n",
      "373/373 [==============================] - 20s 52ms/step - loss: 0.7208 - accuracy: 0.6918 - val_loss: 0.9535 - val_accuracy: 0.6118\n",
      "Epoch 46/50\n",
      "373/373 [==============================] - 20s 55ms/step - loss: 0.7138 - accuracy: 0.6874 - val_loss: 0.9945 - val_accuracy: 0.6212\n",
      "Epoch 47/50\n",
      "373/373 [==============================] - 20s 55ms/step - loss: 0.6997 - accuracy: 0.7028 - val_loss: 0.9702 - val_accuracy: 0.6266\n",
      "Epoch 48/50\n",
      "373/373 [==============================] - 20s 52ms/step - loss: 0.7095 - accuracy: 0.7064 - val_loss: 0.9645 - val_accuracy: 0.6293\n",
      "Epoch 49/50\n",
      "373/373 [==============================] - 21s 57ms/step - loss: 0.6906 - accuracy: 0.7079 - val_loss: 0.9916 - val_accuracy: 0.6219\n",
      "Epoch 50/50\n",
      "373/373 [==============================] - 23s 61ms/step - loss: 0.7577 - accuracy: 0.6983 - val_loss: 0.9585 - val_accuracy: 0.6266\n",
      "47/47 [==============================] - 1s 21ms/step - loss: 0.9585 - accuracy: 0.6266\n",
      "Model Accuracy: 0.6266\n",
      "\n"
     ]
    }
   ],
   "source": [
    "model1 = build_model(X_train, y_train, X_test, y_test, num_label)\n",
    "\n",
    "\n",
    "model1.fit(X_train, y_train, epochs=50, batch_size=16, validation_data=(X_test, y_test), use_multiprocessing=True)\n",
    "acc1 = model1.evaluate(X_test, y_test)\n",
    "\n",
    "print(f\"Model Accuracy: {acc1[1]:.4f}\\n\")"
   ]
  },
  {
   "cell_type": "code",
   "execution_count": null,
   "metadata": {},
   "outputs": [],
   "source": []
  }
 ],
 "metadata": {
  "kernelspec": {
   "display_name": "Python 3 (ipykernel)",
   "language": "python",
   "name": "python3"
  },
  "language_info": {
   "codemirror_mode": {
    "name": "ipython",
    "version": 3
   },
   "file_extension": ".py",
   "mimetype": "text/x-python",
   "name": "python",
   "nbconvert_exporter": "python",
   "pygments_lexer": "ipython3",
   "version": "3.11.5"
  }
 },
 "nbformat": 4,
 "nbformat_minor": 2
}
