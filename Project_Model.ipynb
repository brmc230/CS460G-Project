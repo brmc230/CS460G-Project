{
 "cells": [
  {
   "cell_type": "markdown",
   "metadata": {},
   "source": [
    "### File:           Project_Model  \n",
    "  \n",
    "### Authors:        Brooke McWilliams, James Birch  \n",
    "  \n",
    "### Date Created:   11/19/2023  \n",
    "  \n",
    "### Last Modified:  12/04/2023  \n",
    "  \n",
    "### Description:    Strip features out of audio files using the librosa library and perform CNN modeling using the tensors and keras libraries  \n",
    "<br>\n",
    "<br>\n",
    "<br>\n"
   ]
  },
  {
   "cell_type": "markdown",
   "metadata": {},
   "source": [
    "### Audio Preprocessing"
   ]
  },
  {
   "cell_type": "code",
   "execution_count": 128,
   "metadata": {},
   "outputs": [],
   "source": [
    "import os\n",
    "import librosa\n",
    "import matplotlib.pyplot as plt\n",
    "import pandas as pd\n",
    "import numpy as np\n",
    "from sklearn.preprocessing import StandardScaler"
   ]
  },
  {
   "cell_type": "markdown",
   "metadata": {},
   "source": [
    "Function to load the WAV audio file data using librosa "
   ]
  },
  {
   "cell_type": "code",
   "execution_count": 129,
   "metadata": {},
   "outputs": [],
   "source": [
    "def get_data(filepath):\n",
    "    data, sampleRate = librosa.load(filepath)\n",
    "    return data, sampleRate"
   ]
  },
  {
   "cell_type": "markdown",
   "metadata": {},
   "source": [
    "Assign variables that will be used to store the data for modeling  \n",
    "Go through the Crema directory and append each files data to these variables  "
   ]
  },
  {
   "cell_type": "code",
   "execution_count": 130,
   "metadata": {},
   "outputs": [],
   "source": [
    "path = \"./Crema Dataset/\"\n",
    "\n",
    "wav_data_mfcc_norm = []\n",
    "wav_data_rms_norm = []\n",
    "labelList = []\n",
    "wav_data = []\n",
    "fileName = []\n",
    "sampleR = []\n",
    "\n",
    "for file in os.listdir(path):\n",
    "    if file.endswith(\".wav\"):               \n",
    "        file_path = os.path.join(path, file)\n",
    "        # Get audio data from each data file\n",
    "        record, sr = get_data(file_path)\n",
    "        wav_data.append(record)\n",
    "        sampleR.append(sr)\n",
    "\n",
    "        # Labels for each data file\n",
    "        labelList.append(file.split('_')[2])\n",
    "\n",
    "        # File names list for tacking\n",
    "        fileName.append(file)"
   ]
  },
  {
   "cell_type": "markdown",
   "metadata": {},
   "source": [
    "Find the max audio file length to use for padding so that the feature space is evenly distributed "
   ]
  },
  {
   "cell_type": "code",
   "execution_count": 131,
   "metadata": {},
   "outputs": [],
   "source": [
    "maxL = 0\n",
    "minL = float('inf')\n",
    "for arr in wav_data:\n",
    "    length = len(arr)\n",
    "    if length > maxL:\n",
    "        maxL = length\n",
    "    if length < minL:\n",
    "        minL = length\n",
    "\n",
    "padded_data = []\n",
    "for signal in wav_data:\n",
    "    padW = maxL - len(signal)\n",
    "    padS = np.pad(signal, (0, padW), mode=\"constant\")\n",
    "    padded_data.append(padS)"
   ]
  },
  {
   "cell_type": "markdown",
   "metadata": {},
   "source": [
    "Extract the features from the read audio file data and normalize them"
   ]
  },
  {
   "cell_type": "code",
   "execution_count": 132,
   "metadata": {},
   "outputs": [
    {
     "name": "stderr",
     "output_type": "stream",
     "text": [
      "C:\\Users\\mcwil\\AppData\\Local\\Temp\\ipykernel_8124\\3036714490.py:6: RuntimeWarning: invalid value encountered in divide\n",
      "  wav_data_rms_norm.append((wav_data_rms - np.mean(wav_data_rms)) / np.std(wav_data_rms))\n"
     ]
    }
   ],
   "source": [
    "for audio, rate in zip(padded_data, sampleR):\n",
    "    wav_data_mfcc = librosa.feature.mfcc(y=audio, sr=rate, n_mfcc=13).flatten()\n",
    "    wav_data_mfcc_norm.append((wav_data_mfcc - np.mean(wav_data_mfcc)) / np.std(wav_data_mfcc))\n",
    "\n",
    "    wav_data_rms = librosa.feature.rms(y=audio, hop_length=200).flatten()\n",
    "    wav_data_rms_norm.append((wav_data_rms - np.mean(wav_data_rms)) / np.std(wav_data_rms))"
   ]
  },
  {
   "cell_type": "markdown",
   "metadata": {},
   "source": [
    "Create dataframes to help work with the features "
   ]
  },
  {
   "cell_type": "code",
   "execution_count": 133,
   "metadata": {},
   "outputs": [],
   "source": [
    "# MFCC\n",
    "wave_mfcc_dataframe = pd.DataFrame(wav_data_mfcc_norm)\n",
    "wave_mfcc_dataframe.insert(0, \"ID/File\", fileName)\n",
    "wave_mfcc_dataframe.insert(1, \"Labels\", labelList)\n",
    "\n",
    "#RMS\n",
    "wave_rms_dataframe = pd.DataFrame(wav_data_rms_norm)\n",
    "wave_rms_dataframe.insert(0, \"ID/File\", fileName)\n",
    "wave_rms_dataframe.insert(1, \"Labels\", labelList)"
   ]
  },
  {
   "cell_type": "markdown",
   "metadata": {},
   "source": [
    "# CNN Modeling"
   ]
  },
  {
   "cell_type": "code",
   "execution_count": 134,
   "metadata": {},
   "outputs": [],
   "source": [
    "from tensorflow import keras\n",
    "from keras.models import Sequential\n",
    "from keras.layers import Conv1D, Activation, BatchNormalization, Dropout, MaxPooling1D, Flatten, Dense\n",
    "from keras.optimizers import Adam, RMSprop\n",
    "from keras.optimizers.schedules import ExponentialDecay\n",
    "from keras.utils import to_categorical\n",
    "from keras.callbacks import EarlyStopping\n",
    "from keras.regularizers import l1, l2\n",
    "from sklearn.model_selection import train_test_split\n",
    "from sklearn.preprocessing import LabelEncoder"
   ]
  },
  {
   "cell_type": "markdown",
   "metadata": {},
   "source": [
    "Build the CNN model for training  "
   ]
  },
  {
   "cell_type": "code",
   "execution_count": 214,
   "metadata": {},
   "outputs": [],
   "source": [
    "def build_model(X_train, y_train, X_test, y_test, num_label):\n",
    "\n",
    "    model = Sequential()\n",
    "    model.add(Conv1D(filters=256, kernel_size=5, padding='same', activation='relu', input_shape=(X_train.shape[1],1)))\n",
    "\n",
    "    model.add(Conv1D(filters=256, kernel_size=5, activation='relu', padding='same'))\n",
    "    model.add(MaxPooling1D(pool_size=2, padding='same', strides=2))\n",
    "    \n",
    "    model.add(Conv1D(filters=128, kernel_size=5, activation='relu', padding='same'))\n",
    "    model.add(MaxPooling1D(pool_size=2, padding='same', strides=2))\n",
    "    model.add(Dropout(0.2))\n",
    "    \n",
    "    model.add(Conv1D(filters=64, kernel_size=5, activation='relu', padding='same'))\n",
    "    model.add(MaxPooling1D(pool_size=2, padding='same', strides=2))\n",
    "\n",
    "    model.add(Flatten())\n",
    "    model.add(Dense(64, activation='relu'))\n",
    "    model.add(Dropout(0.2))\n",
    "    model.add(Dense(num_label, activation='softmax'))\n",
    "\n",
    "    model.summary()\n",
    "\n",
    "    opt = Adam(learning_rate=0.0001)\n",
    "    model.compile(loss='categorical_crossentropy', optimizer=opt, metrics=['accuracy'])\n",
    "\n",
    "    return model"
   ]
  },
  {
   "cell_type": "markdown",
   "metadata": {},
   "source": [
    "Split the data into training and testing and encode the labels"
   ]
  },
  {
   "cell_type": "markdown",
   "metadata": {},
   "source": [
    "## MFCC"
   ]
  },
  {
   "cell_type": "code",
   "execution_count": 212,
   "metadata": {},
   "outputs": [
    {
     "name": "stdout",
     "output_type": "stream",
     "text": [
      "Shape of X1_train: (5953, 2808)\n",
      "\n",
      "Shape of y_train: (5953, 6)\n",
      "\n",
      "Shape of X1_test: (1489, 2808)\n",
      "\n",
      "Shape of y_test: (1489, 6)\n",
      "\n",
      "Number of labels: 6\n",
      "\n"
     ]
    }
   ],
   "source": [
    "X1 = wave_mfcc_dataframe.iloc[:, 2:]\n",
    "y = wave_mfcc_dataframe['Labels']\n",
    "\n",
    "encoder = LabelEncoder()\n",
    "y = encoder.fit_transform(y)\n",
    "num_label = len(pd.unique(y))\n",
    "y = to_categorical(y, num_classes=6)\n",
    "\n",
    "X1_train, X1_test, y_train, y_test = train_test_split(X1, y, test_size=0.2, random_state=42)\n",
    "\n",
    "print(f\"Shape of X1_train: {X1_train.shape}\\n\")\n",
    "print(f\"Shape of y_train: {y_train.shape}\\n\")\n",
    "print(f\"Shape of X1_test: {X1_test.shape}\\n\")\n",
    "print(f\"Shape of y_test: {y_test.shape}\\n\")\n",
    "print(f\"Number of labels: {num_label}\\n\")"
   ]
  },
  {
   "cell_type": "markdown",
   "metadata": {},
   "source": [
    "Send training data to model function and return compiled CNN model for MFCC  \n"
   ]
  },
  {
   "cell_type": "code",
   "execution_count": null,
   "metadata": {},
   "outputs": [],
   "source": [
    "model1 = build_model(X1_train, y_train, X1_test, y_test, num_label)\n",
    "\n",
    "\n",
    "model1.fit(X1_train, y_train, epochs=100, batch_size=64, validation_data=(X1_test, y_test))\n",
    "acc1 = model1.evaluate(X1_test, y_test)\n",
    "\n",
    "print(f\"Model Accuracy: {acc1[1]:.4f}\\n\")"
   ]
  },
  {
   "cell_type": "markdown",
   "metadata": {},
   "source": [
    "## RMS"
   ]
  },
  {
   "cell_type": "code",
   "execution_count": 215,
   "metadata": {},
   "outputs": [
    {
     "name": "stdout",
     "output_type": "stream",
     "text": [
      "Shape of X2_train: (5953, 552)\n",
      "\n",
      "Shape of y_train: (5953, 6)\n",
      "\n",
      "Shape of X2_test: (1489, 552)\n",
      "\n",
      "Shape of y_test: (1489, 6)\n",
      "\n"
     ]
    }
   ],
   "source": [
    "X2 = wave_rms_dataframe.iloc[:, 2:]\n",
    "X2_train, X2_test, y_train, y_test = train_test_split(X2, y, test_size=0.2, random_state=42)\n",
    "\n",
    "print(f\"Shape of X2_train: {X2_train.shape}\\n\")\n",
    "print(f\"Shape of y_train: {y_train.shape}\\n\")\n",
    "print(f\"Shape of X2_test: {X2_test.shape}\\n\")\n",
    "print(f\"Shape of y_test: {y_test.shape}\\n\")"
   ]
  },
  {
   "cell_type": "markdown",
   "metadata": {},
   "source": [
    "Send training data to model function and return compiled CNN model for RMS  \n"
   ]
  },
  {
   "cell_type": "code",
   "execution_count": 216,
   "metadata": {},
   "outputs": [
    {
     "name": "stdout",
     "output_type": "stream",
     "text": [
      "Model: \"sequential_42\"\n",
      "_________________________________________________________________\n",
      " Layer (type)                Output Shape              Param #   \n",
      "=================================================================\n",
      " conv1d_190 (Conv1D)         (None, 552, 256)          1536      \n",
      "                                                                 \n",
      " conv1d_191 (Conv1D)         (None, 552, 256)          327936    \n",
      "                                                                 \n",
      " max_pooling1d_142 (MaxPool  (None, 276, 256)          0         \n",
      " ing1D)                                                          \n",
      "                                                                 \n",
      " conv1d_192 (Conv1D)         (None, 276, 128)          163968    \n",
      "                                                                 \n",
      " max_pooling1d_143 (MaxPool  (None, 138, 128)          0         \n",
      " ing1D)                                                          \n",
      "                                                                 \n",
      " dropout_48 (Dropout)        (None, 138, 128)          0         \n",
      "                                                                 \n",
      " conv1d_193 (Conv1D)         (None, 138, 64)           41024     \n",
      "                                                                 \n",
      " max_pooling1d_144 (MaxPool  (None, 69, 64)            0         \n",
      " ing1D)                                                          \n",
      "                                                                 \n",
      " flatten_40 (Flatten)        (None, 4416)              0         \n",
      "                                                                 \n",
      " dense_97 (Dense)            (None, 64)                282688    \n",
      "                                                                 \n",
      " dropout_49 (Dropout)        (None, 64)                0         \n",
      "                                                                 \n",
      " dense_98 (Dense)            (None, 6)                 390       \n",
      "                                                                 \n",
      "=================================================================\n",
      "Total params: 817542 (3.12 MB)\n",
      "Trainable params: 817542 (3.12 MB)\n",
      "Non-trainable params: 0 (0.00 Byte)\n",
      "_________________________________________________________________\n",
      "Epoch 1/100\n",
      "94/94 [==============================] - 27s 277ms/step - loss: 1.6958 - accuracy: 0.2641 - val_loss: nan - val_accuracy: 0.3680\n",
      "Epoch 2/100\n",
      "94/94 [==============================] - 26s 278ms/step - loss: 1.5513 - accuracy: 0.3536 - val_loss: nan - val_accuracy: 0.3969\n",
      "Epoch 3/100\n",
      "94/94 [==============================] - 26s 277ms/step - loss: 1.5092 - accuracy: 0.3775 - val_loss: nan - val_accuracy: 0.3936\n",
      "Epoch 4/100\n",
      "94/94 [==============================] - 29s 307ms/step - loss: 1.5055 - accuracy: 0.3810 - val_loss: nan - val_accuracy: 0.4077\n",
      "Epoch 5/100\n",
      "94/94 [==============================] - 27s 282ms/step - loss: 1.4824 - accuracy: 0.4050 - val_loss: nan - val_accuracy: 0.4056\n",
      "Epoch 6/100\n",
      "94/94 [==============================] - 27s 283ms/step - loss: 1.4640 - accuracy: 0.3968 - val_loss: nan - val_accuracy: 0.4291\n",
      "Epoch 7/100\n",
      "94/94 [==============================] - 25s 269ms/step - loss: 1.4460 - accuracy: 0.4141 - val_loss: nan - val_accuracy: 0.4271\n",
      "Epoch 8/100\n",
      "94/94 [==============================] - 26s 276ms/step - loss: 1.4628 - accuracy: 0.4077 - val_loss: nan - val_accuracy: 0.4117\n",
      "Epoch 9/100\n",
      "94/94 [==============================] - 28s 297ms/step - loss: 1.4275 - accuracy: 0.4233 - val_loss: nan - val_accuracy: 0.4157\n",
      "Epoch 10/100\n",
      "94/94 [==============================] - 27s 288ms/step - loss: 1.4234 - accuracy: 0.4198 - val_loss: nan - val_accuracy: 0.4325\n",
      "Epoch 11/100\n",
      "94/94 [==============================] - 26s 279ms/step - loss: 1.4009 - accuracy: 0.4347 - val_loss: nan - val_accuracy: 0.4332\n",
      "Epoch 12/100\n",
      "94/94 [==============================] - 26s 273ms/step - loss: 1.4025 - accuracy: 0.4361 - val_loss: nan - val_accuracy: 0.4379\n",
      "Epoch 13/100\n",
      "94/94 [==============================] - 26s 280ms/step - loss: 1.4212 - accuracy: 0.4220 - val_loss: nan - val_accuracy: 0.4218\n",
      "Epoch 14/100\n",
      "94/94 [==============================] - 27s 286ms/step - loss: 1.3916 - accuracy: 0.4342 - val_loss: nan - val_accuracy: 0.4500\n",
      "Epoch 15/100\n",
      "94/94 [==============================] - 25s 269ms/step - loss: 1.3877 - accuracy: 0.4388 - val_loss: nan - val_accuracy: 0.4513\n",
      "Epoch 16/100\n",
      "94/94 [==============================] - 26s 277ms/step - loss: 1.3925 - accuracy: 0.4332 - val_loss: nan - val_accuracy: 0.4587\n",
      "Epoch 17/100\n",
      "94/94 [==============================] - 28s 300ms/step - loss: 1.3804 - accuracy: 0.4408 - val_loss: nan - val_accuracy: 0.4345\n",
      "Epoch 18/100\n",
      "94/94 [==============================] - 30s 321ms/step - loss: 1.3679 - accuracy: 0.4542 - val_loss: nan - val_accuracy: 0.4325\n",
      "Epoch 19/100\n",
      "94/94 [==============================] - 27s 283ms/step - loss: 1.3644 - accuracy: 0.4462 - val_loss: nan - val_accuracy: 0.4433\n",
      "Epoch 20/100\n",
      "94/94 [==============================] - 26s 273ms/step - loss: 1.3592 - accuracy: 0.4576 - val_loss: nan - val_accuracy: 0.4480\n",
      "Epoch 21/100\n",
      "42/94 [============>.................] - ETA: 13s - loss: 1.3640 - accuracy: 0.4475"
     ]
    },
    {
     "ename": "KeyboardInterrupt",
     "evalue": "",
     "output_type": "error",
     "traceback": [
      "\u001b[1;31m---------------------------------------------------------------------------\u001b[0m",
      "\u001b[1;31mKeyboardInterrupt\u001b[0m                         Traceback (most recent call last)",
      "\u001b[1;32mc:\\Users\\mcwil\\Documents\\CS460G\\CS460G-Project\\Project_Model.ipynb Cell 27\u001b[0m line \u001b[0;36m3\n\u001b[0;32m      <a href='vscode-notebook-cell:/c%3A/Users/mcwil/Documents/CS460G/CS460G-Project/Project_Model.ipynb#X42sZmlsZQ%3D%3D?line=0'>1</a>\u001b[0m model2 \u001b[39m=\u001b[39m build_model(X2_train, y_train, X2_test, y_test, num_label)\n\u001b[1;32m----> <a href='vscode-notebook-cell:/c%3A/Users/mcwil/Documents/CS460G/CS460G-Project/Project_Model.ipynb#X42sZmlsZQ%3D%3D?line=2'>3</a>\u001b[0m model2\u001b[39m.\u001b[39mfit(X2_train, y_train, epochs\u001b[39m=\u001b[39m\u001b[39m100\u001b[39m, batch_size\u001b[39m=\u001b[39m\u001b[39m64\u001b[39m, validation_data\u001b[39m=\u001b[39m(X2_test, y_test))\n\u001b[0;32m      <a href='vscode-notebook-cell:/c%3A/Users/mcwil/Documents/CS460G/CS460G-Project/Project_Model.ipynb#X42sZmlsZQ%3D%3D?line=3'>4</a>\u001b[0m acc2 \u001b[39m=\u001b[39m model2\u001b[39m.\u001b[39mevaluate(X2_test, y_test)\n\u001b[0;32m      <a href='vscode-notebook-cell:/c%3A/Users/mcwil/Documents/CS460G/CS460G-Project/Project_Model.ipynb#X42sZmlsZQ%3D%3D?line=5'>6</a>\u001b[0m \u001b[39mprint\u001b[39m(\u001b[39mf\u001b[39m\u001b[39m\"\u001b[39m\u001b[39mModel Accuracy: \u001b[39m\u001b[39m{\u001b[39;00macc2[\u001b[39m1\u001b[39m]\u001b[39m:\u001b[39;00m\u001b[39m.4f\u001b[39m\u001b[39m}\u001b[39;00m\u001b[39m\\n\u001b[39;00m\u001b[39m\"\u001b[39m)\n",
      "File \u001b[1;32mc:\\Users\\mcwil\\anaconda3\\Lib\\site-packages\\keras\\src\\utils\\traceback_utils.py:65\u001b[0m, in \u001b[0;36mfilter_traceback.<locals>.error_handler\u001b[1;34m(*args, **kwargs)\u001b[0m\n\u001b[0;32m     63\u001b[0m filtered_tb \u001b[39m=\u001b[39m \u001b[39mNone\u001b[39;00m\n\u001b[0;32m     64\u001b[0m \u001b[39mtry\u001b[39;00m:\n\u001b[1;32m---> 65\u001b[0m     \u001b[39mreturn\u001b[39;00m fn(\u001b[39m*\u001b[39margs, \u001b[39m*\u001b[39m\u001b[39m*\u001b[39mkwargs)\n\u001b[0;32m     66\u001b[0m \u001b[39mexcept\u001b[39;00m \u001b[39mException\u001b[39;00m \u001b[39mas\u001b[39;00m e:\n\u001b[0;32m     67\u001b[0m     filtered_tb \u001b[39m=\u001b[39m _process_traceback_frames(e\u001b[39m.\u001b[39m__traceback__)\n",
      "File \u001b[1;32mc:\\Users\\mcwil\\anaconda3\\Lib\\site-packages\\keras\\src\\engine\\training.py:1807\u001b[0m, in \u001b[0;36mModel.fit\u001b[1;34m(self, x, y, batch_size, epochs, verbose, callbacks, validation_split, validation_data, shuffle, class_weight, sample_weight, initial_epoch, steps_per_epoch, validation_steps, validation_batch_size, validation_freq, max_queue_size, workers, use_multiprocessing)\u001b[0m\n\u001b[0;32m   1799\u001b[0m \u001b[39mwith\u001b[39;00m tf\u001b[39m.\u001b[39mprofiler\u001b[39m.\u001b[39mexperimental\u001b[39m.\u001b[39mTrace(\n\u001b[0;32m   1800\u001b[0m     \u001b[39m\"\u001b[39m\u001b[39mtrain\u001b[39m\u001b[39m\"\u001b[39m,\n\u001b[0;32m   1801\u001b[0m     epoch_num\u001b[39m=\u001b[39mepoch,\n\u001b[1;32m   (...)\u001b[0m\n\u001b[0;32m   1804\u001b[0m     _r\u001b[39m=\u001b[39m\u001b[39m1\u001b[39m,\n\u001b[0;32m   1805\u001b[0m ):\n\u001b[0;32m   1806\u001b[0m     callbacks\u001b[39m.\u001b[39mon_train_batch_begin(step)\n\u001b[1;32m-> 1807\u001b[0m     tmp_logs \u001b[39m=\u001b[39m \u001b[39mself\u001b[39m\u001b[39m.\u001b[39mtrain_function(iterator)\n\u001b[0;32m   1808\u001b[0m     \u001b[39mif\u001b[39;00m data_handler\u001b[39m.\u001b[39mshould_sync:\n\u001b[0;32m   1809\u001b[0m         context\u001b[39m.\u001b[39masync_wait()\n",
      "File \u001b[1;32mc:\\Users\\mcwil\\anaconda3\\Lib\\site-packages\\tensorflow\\python\\util\\traceback_utils.py:150\u001b[0m, in \u001b[0;36mfilter_traceback.<locals>.error_handler\u001b[1;34m(*args, **kwargs)\u001b[0m\n\u001b[0;32m    148\u001b[0m filtered_tb \u001b[39m=\u001b[39m \u001b[39mNone\u001b[39;00m\n\u001b[0;32m    149\u001b[0m \u001b[39mtry\u001b[39;00m:\n\u001b[1;32m--> 150\u001b[0m   \u001b[39mreturn\u001b[39;00m fn(\u001b[39m*\u001b[39margs, \u001b[39m*\u001b[39m\u001b[39m*\u001b[39mkwargs)\n\u001b[0;32m    151\u001b[0m \u001b[39mexcept\u001b[39;00m \u001b[39mException\u001b[39;00m \u001b[39mas\u001b[39;00m e:\n\u001b[0;32m    152\u001b[0m   filtered_tb \u001b[39m=\u001b[39m _process_traceback_frames(e\u001b[39m.\u001b[39m__traceback__)\n",
      "File \u001b[1;32mc:\\Users\\mcwil\\anaconda3\\Lib\\site-packages\\tensorflow\\python\\eager\\polymorphic_function\\polymorphic_function.py:832\u001b[0m, in \u001b[0;36mFunction.__call__\u001b[1;34m(self, *args, **kwds)\u001b[0m\n\u001b[0;32m    829\u001b[0m compiler \u001b[39m=\u001b[39m \u001b[39m\"\u001b[39m\u001b[39mxla\u001b[39m\u001b[39m\"\u001b[39m \u001b[39mif\u001b[39;00m \u001b[39mself\u001b[39m\u001b[39m.\u001b[39m_jit_compile \u001b[39melse\u001b[39;00m \u001b[39m\"\u001b[39m\u001b[39mnonXla\u001b[39m\u001b[39m\"\u001b[39m\n\u001b[0;32m    831\u001b[0m \u001b[39mwith\u001b[39;00m OptionalXlaContext(\u001b[39mself\u001b[39m\u001b[39m.\u001b[39m_jit_compile):\n\u001b[1;32m--> 832\u001b[0m   result \u001b[39m=\u001b[39m \u001b[39mself\u001b[39m\u001b[39m.\u001b[39m_call(\u001b[39m*\u001b[39margs, \u001b[39m*\u001b[39m\u001b[39m*\u001b[39mkwds)\n\u001b[0;32m    834\u001b[0m new_tracing_count \u001b[39m=\u001b[39m \u001b[39mself\u001b[39m\u001b[39m.\u001b[39mexperimental_get_tracing_count()\n\u001b[0;32m    835\u001b[0m without_tracing \u001b[39m=\u001b[39m (tracing_count \u001b[39m==\u001b[39m new_tracing_count)\n",
      "File \u001b[1;32mc:\\Users\\mcwil\\anaconda3\\Lib\\site-packages\\tensorflow\\python\\eager\\polymorphic_function\\polymorphic_function.py:868\u001b[0m, in \u001b[0;36mFunction._call\u001b[1;34m(self, *args, **kwds)\u001b[0m\n\u001b[0;32m    865\u001b[0m   \u001b[39mself\u001b[39m\u001b[39m.\u001b[39m_lock\u001b[39m.\u001b[39mrelease()\n\u001b[0;32m    866\u001b[0m   \u001b[39m# In this case we have created variables on the first call, so we run the\u001b[39;00m\n\u001b[0;32m    867\u001b[0m   \u001b[39m# defunned version which is guaranteed to never create variables.\u001b[39;00m\n\u001b[1;32m--> 868\u001b[0m   \u001b[39mreturn\u001b[39;00m tracing_compilation\u001b[39m.\u001b[39mcall_function(\n\u001b[0;32m    869\u001b[0m       args, kwds, \u001b[39mself\u001b[39m\u001b[39m.\u001b[39m_no_variable_creation_config\n\u001b[0;32m    870\u001b[0m   )\n\u001b[0;32m    871\u001b[0m \u001b[39melif\u001b[39;00m \u001b[39mself\u001b[39m\u001b[39m.\u001b[39m_variable_creation_config \u001b[39mis\u001b[39;00m \u001b[39mnot\u001b[39;00m \u001b[39mNone\u001b[39;00m:\n\u001b[0;32m    872\u001b[0m   \u001b[39m# Release the lock early so that multiple threads can perform the call\u001b[39;00m\n\u001b[0;32m    873\u001b[0m   \u001b[39m# in parallel.\u001b[39;00m\n\u001b[0;32m    874\u001b[0m   \u001b[39mself\u001b[39m\u001b[39m.\u001b[39m_lock\u001b[39m.\u001b[39mrelease()\n",
      "File \u001b[1;32mc:\\Users\\mcwil\\anaconda3\\Lib\\site-packages\\tensorflow\\python\\eager\\polymorphic_function\\tracing_compilation.py:139\u001b[0m, in \u001b[0;36mcall_function\u001b[1;34m(args, kwargs, tracing_options)\u001b[0m\n\u001b[0;32m    137\u001b[0m bound_args \u001b[39m=\u001b[39m function\u001b[39m.\u001b[39mfunction_type\u001b[39m.\u001b[39mbind(\u001b[39m*\u001b[39margs, \u001b[39m*\u001b[39m\u001b[39m*\u001b[39mkwargs)\n\u001b[0;32m    138\u001b[0m flat_inputs \u001b[39m=\u001b[39m function\u001b[39m.\u001b[39mfunction_type\u001b[39m.\u001b[39munpack_inputs(bound_args)\n\u001b[1;32m--> 139\u001b[0m \u001b[39mreturn\u001b[39;00m function\u001b[39m.\u001b[39m_call_flat(  \u001b[39m# pylint: disable=protected-access\u001b[39;00m\n\u001b[0;32m    140\u001b[0m     flat_inputs, captured_inputs\u001b[39m=\u001b[39mfunction\u001b[39m.\u001b[39mcaptured_inputs\n\u001b[0;32m    141\u001b[0m )\n",
      "File \u001b[1;32mc:\\Users\\mcwil\\anaconda3\\Lib\\site-packages\\tensorflow\\python\\eager\\polymorphic_function\\concrete_function.py:1323\u001b[0m, in \u001b[0;36mConcreteFunction._call_flat\u001b[1;34m(self, tensor_inputs, captured_inputs)\u001b[0m\n\u001b[0;32m   1319\u001b[0m possible_gradient_type \u001b[39m=\u001b[39m gradients_util\u001b[39m.\u001b[39mPossibleTapeGradientTypes(args)\n\u001b[0;32m   1320\u001b[0m \u001b[39mif\u001b[39;00m (possible_gradient_type \u001b[39m==\u001b[39m gradients_util\u001b[39m.\u001b[39mPOSSIBLE_GRADIENT_TYPES_NONE\n\u001b[0;32m   1321\u001b[0m     \u001b[39mand\u001b[39;00m executing_eagerly):\n\u001b[0;32m   1322\u001b[0m   \u001b[39m# No tape is watching; skip to running the function.\u001b[39;00m\n\u001b[1;32m-> 1323\u001b[0m   \u001b[39mreturn\u001b[39;00m \u001b[39mself\u001b[39m\u001b[39m.\u001b[39m_inference_function\u001b[39m.\u001b[39mcall_preflattened(args)\n\u001b[0;32m   1324\u001b[0m forward_backward \u001b[39m=\u001b[39m \u001b[39mself\u001b[39m\u001b[39m.\u001b[39m_select_forward_and_backward_functions(\n\u001b[0;32m   1325\u001b[0m     args,\n\u001b[0;32m   1326\u001b[0m     possible_gradient_type,\n\u001b[0;32m   1327\u001b[0m     executing_eagerly)\n\u001b[0;32m   1328\u001b[0m forward_function, args_with_tangents \u001b[39m=\u001b[39m forward_backward\u001b[39m.\u001b[39mforward()\n",
      "File \u001b[1;32mc:\\Users\\mcwil\\anaconda3\\Lib\\site-packages\\tensorflow\\python\\eager\\polymorphic_function\\atomic_function.py:216\u001b[0m, in \u001b[0;36mAtomicFunction.call_preflattened\u001b[1;34m(self, args)\u001b[0m\n\u001b[0;32m    214\u001b[0m \u001b[39mdef\u001b[39;00m \u001b[39mcall_preflattened\u001b[39m(\u001b[39mself\u001b[39m, args: Sequence[core\u001b[39m.\u001b[39mTensor]) \u001b[39m-\u001b[39m\u001b[39m>\u001b[39m Any:\n\u001b[0;32m    215\u001b[0m \u001b[39m  \u001b[39m\u001b[39m\"\"\"Calls with flattened tensor inputs and returns the structured output.\"\"\"\u001b[39;00m\n\u001b[1;32m--> 216\u001b[0m   flat_outputs \u001b[39m=\u001b[39m \u001b[39mself\u001b[39m\u001b[39m.\u001b[39mcall_flat(\u001b[39m*\u001b[39margs)\n\u001b[0;32m    217\u001b[0m   \u001b[39mreturn\u001b[39;00m \u001b[39mself\u001b[39m\u001b[39m.\u001b[39mfunction_type\u001b[39m.\u001b[39mpack_output(flat_outputs)\n",
      "File \u001b[1;32mc:\\Users\\mcwil\\anaconda3\\Lib\\site-packages\\tensorflow\\python\\eager\\polymorphic_function\\atomic_function.py:251\u001b[0m, in \u001b[0;36mAtomicFunction.call_flat\u001b[1;34m(self, *args)\u001b[0m\n\u001b[0;32m    249\u001b[0m \u001b[39mwith\u001b[39;00m record\u001b[39m.\u001b[39mstop_recording():\n\u001b[0;32m    250\u001b[0m   \u001b[39mif\u001b[39;00m \u001b[39mself\u001b[39m\u001b[39m.\u001b[39m_bound_context\u001b[39m.\u001b[39mexecuting_eagerly():\n\u001b[1;32m--> 251\u001b[0m     outputs \u001b[39m=\u001b[39m \u001b[39mself\u001b[39m\u001b[39m.\u001b[39m_bound_context\u001b[39m.\u001b[39mcall_function(\n\u001b[0;32m    252\u001b[0m         \u001b[39mself\u001b[39m\u001b[39m.\u001b[39mname,\n\u001b[0;32m    253\u001b[0m         \u001b[39mlist\u001b[39m(args),\n\u001b[0;32m    254\u001b[0m         \u001b[39mlen\u001b[39m(\u001b[39mself\u001b[39m\u001b[39m.\u001b[39mfunction_type\u001b[39m.\u001b[39mflat_outputs),\n\u001b[0;32m    255\u001b[0m     )\n\u001b[0;32m    256\u001b[0m   \u001b[39melse\u001b[39;00m:\n\u001b[0;32m    257\u001b[0m     outputs \u001b[39m=\u001b[39m make_call_op_in_graph(\n\u001b[0;32m    258\u001b[0m         \u001b[39mself\u001b[39m,\n\u001b[0;32m    259\u001b[0m         \u001b[39mlist\u001b[39m(args),\n\u001b[0;32m    260\u001b[0m         \u001b[39mself\u001b[39m\u001b[39m.\u001b[39m_bound_context\u001b[39m.\u001b[39mfunction_call_options\u001b[39m.\u001b[39mas_attrs(),\n\u001b[0;32m    261\u001b[0m     )\n",
      "File \u001b[1;32mc:\\Users\\mcwil\\anaconda3\\Lib\\site-packages\\tensorflow\\python\\eager\\context.py:1486\u001b[0m, in \u001b[0;36mContext.call_function\u001b[1;34m(self, name, tensor_inputs, num_outputs)\u001b[0m\n\u001b[0;32m   1484\u001b[0m cancellation_context \u001b[39m=\u001b[39m cancellation\u001b[39m.\u001b[39mcontext()\n\u001b[0;32m   1485\u001b[0m \u001b[39mif\u001b[39;00m cancellation_context \u001b[39mis\u001b[39;00m \u001b[39mNone\u001b[39;00m:\n\u001b[1;32m-> 1486\u001b[0m   outputs \u001b[39m=\u001b[39m execute\u001b[39m.\u001b[39mexecute(\n\u001b[0;32m   1487\u001b[0m       name\u001b[39m.\u001b[39mdecode(\u001b[39m\"\u001b[39m\u001b[39mutf-8\u001b[39m\u001b[39m\"\u001b[39m),\n\u001b[0;32m   1488\u001b[0m       num_outputs\u001b[39m=\u001b[39mnum_outputs,\n\u001b[0;32m   1489\u001b[0m       inputs\u001b[39m=\u001b[39mtensor_inputs,\n\u001b[0;32m   1490\u001b[0m       attrs\u001b[39m=\u001b[39mattrs,\n\u001b[0;32m   1491\u001b[0m       ctx\u001b[39m=\u001b[39m\u001b[39mself\u001b[39m,\n\u001b[0;32m   1492\u001b[0m   )\n\u001b[0;32m   1493\u001b[0m \u001b[39melse\u001b[39;00m:\n\u001b[0;32m   1494\u001b[0m   outputs \u001b[39m=\u001b[39m execute\u001b[39m.\u001b[39mexecute_with_cancellation(\n\u001b[0;32m   1495\u001b[0m       name\u001b[39m.\u001b[39mdecode(\u001b[39m\"\u001b[39m\u001b[39mutf-8\u001b[39m\u001b[39m\"\u001b[39m),\n\u001b[0;32m   1496\u001b[0m       num_outputs\u001b[39m=\u001b[39mnum_outputs,\n\u001b[1;32m   (...)\u001b[0m\n\u001b[0;32m   1500\u001b[0m       cancellation_manager\u001b[39m=\u001b[39mcancellation_context,\n\u001b[0;32m   1501\u001b[0m   )\n",
      "File \u001b[1;32mc:\\Users\\mcwil\\anaconda3\\Lib\\site-packages\\tensorflow\\python\\eager\\execute.py:53\u001b[0m, in \u001b[0;36mquick_execute\u001b[1;34m(op_name, num_outputs, inputs, attrs, ctx, name)\u001b[0m\n\u001b[0;32m     51\u001b[0m \u001b[39mtry\u001b[39;00m:\n\u001b[0;32m     52\u001b[0m   ctx\u001b[39m.\u001b[39mensure_initialized()\n\u001b[1;32m---> 53\u001b[0m   tensors \u001b[39m=\u001b[39m pywrap_tfe\u001b[39m.\u001b[39mTFE_Py_Execute(ctx\u001b[39m.\u001b[39m_handle, device_name, op_name,\n\u001b[0;32m     54\u001b[0m                                       inputs, attrs, num_outputs)\n\u001b[0;32m     55\u001b[0m \u001b[39mexcept\u001b[39;00m core\u001b[39m.\u001b[39m_NotOkStatusException \u001b[39mas\u001b[39;00m e:\n\u001b[0;32m     56\u001b[0m   \u001b[39mif\u001b[39;00m name \u001b[39mis\u001b[39;00m \u001b[39mnot\u001b[39;00m \u001b[39mNone\u001b[39;00m:\n",
      "\u001b[1;31mKeyboardInterrupt\u001b[0m: "
     ]
    }
   ],
   "source": [
    "model2 = build_model(X2_train, y_train, X2_test, y_test, num_label)\n",
    "\n",
    "model2.fit(X2_train, y_train, epochs=100, batch_size=64, validation_data=(X2_test, y_test))\n",
    "acc2 = model2.evaluate(X2_test, y_test)\n",
    "\n",
    "print(f\"Model Accuracy: {acc2[1]:.4f}\\n\")"
   ]
  }
 ],
 "metadata": {
  "kernelspec": {
   "display_name": "Python 3",
   "language": "python",
   "name": "python3"
  },
  "language_info": {
   "codemirror_mode": {
    "name": "ipython",
    "version": 3
   },
   "file_extension": ".py",
   "mimetype": "text/x-python",
   "name": "python",
   "nbconvert_exporter": "python",
   "pygments_lexer": "ipython3",
   "version": "3.11.5"
  }
 },
 "nbformat": 4,
 "nbformat_minor": 2
}
